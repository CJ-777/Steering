{
 "cells": [
  {
   "cell_type": "code",
   "execution_count": 1,
   "metadata": {},
   "outputs": [],
   "source": [
    "from vectorMath import PVector\n",
    "from numba import njit\n",
    "import random\n",
    "import numpy as np"
   ]
  },
  {
   "cell_type": "code",
   "execution_count": 43,
   "metadata": {},
   "outputs": [],
   "source": [
    "noe = 100000\n",
    "vec1 = np.empty((noe, 3), int)\n",
    "vec2 = np.empty((noe, 3), int)\n",
    "vec3 = np.zeros((noe, 3), int)\n",
    "for i in range(noe):\n",
    "    vec1[i][0] = random.randint(0, 400)\n",
    "    vec1[i][1] = random.randint(0, 400)\n",
    "    vec1[i][2] = random.randint(0, 400)\n",
    "\n",
    "    vec2[i][0] = random.randint(0, 400)\n",
    "    vec2[i][1] = random.randint(0, 400)\n",
    "    vec2[i][2] = random.randint(0, 400)"
   ]
  },
  {
   "cell_type": "code",
   "execution_count": 44,
   "metadata": {},
   "outputs": [],
   "source": [
    "pvec1 = []\n",
    "pvec2 = []\n",
    "for i in range(noe):\n",
    "    pvec1.append(PVector(vec1[i][0], vec1[i][1]))\n",
    "    pvec2.append(PVector(vec2[i][0], vec2[i][1]))"
   ]
  },
  {
   "cell_type": "code",
   "execution_count": 88,
   "metadata": {},
   "outputs": [],
   "source": [
    "def sum(a, b):\n",
    "    c = np.empty((noe, 3))\n",
    "    for i in range(noe):\n",
    "        c[i][0] = a[i][0] + b[i][0]\n",
    "        c[i][1] = a[i][1] + b[i][1]\n",
    "        c[i][2] = a[i][2] + b[i][2]\n",
    "    return c\n",
    "\n",
    "@njit\n",
    "def sum_njit(a, b):\n",
    "    c = np.empty((noe, 3))\n",
    "    for i in range(noe):\n",
    "        c[i][0] = a[i][0] + b[i][0]\n",
    "        c[i][1] = a[i][1] + b[i][1]\n",
    "        c[i][2] = a[i][2] + b[i][2]\n",
    "    return c\n",
    "\n",
    "@njit\n",
    "def vecToArr(a):\n",
    "    aAr = np.empty((noe, 3))\n",
    "    for i in range(noe):\n",
    "        aAr[i][0], aAr[i][1], aAr[i][2] = a[i].x, a[i].y, a[i].z\n",
    "    return aAr\n",
    "        \n",
    "\n",
    "def sum_using_pv(a, b):\n",
    "    aAr = vecToArr(a)\n",
    "    bAr =  vecToArr(b)\n",
    "    cAr = sum(aAr, bAr)\n",
    "    return cAr"
   ]
  },
  {
   "cell_type": "code",
   "execution_count": 91,
   "metadata": {},
   "outputs": [
    {
     "ename": "TypingError",
     "evalue": "Failed in nopython mode pipeline (step: nopython frontend)\n\u001b[1m\u001b[1mnon-precise type array(pyobject, 1d, C)\u001b[0m\n\u001b[0m\u001b[1mDuring: typing of argument at C:\\Users\\chira\\AppData\\Local\\Temp\\ipykernel_23176\\1712252166.py (20)\u001b[0m\n\u001b[1m\nFile \"..\\..\\..\\AppData\\Local\\Temp\\ipykernel_23176\\1712252166.py\", line 20:\u001b[0m\n\u001b[1m<source missing, REPL/exec in use?>\u001b[0m\n",
     "output_type": "error",
     "traceback": [
      "\u001b[1;31m---------------------------------------------------------------------------\u001b[0m",
      "\u001b[1;31mTypingError\u001b[0m                               Traceback (most recent call last)",
      "File \u001b[1;32m<timed exec>:1\u001b[0m\n",
      "File \u001b[1;32mc:\\Users\\chira\\Work\\SimulationLab\\Steering\\env\\lib\\site-packages\\numba\\core\\dispatcher.py:468\u001b[0m, in \u001b[0;36m_DispatcherBase._compile_for_args\u001b[1;34m(self, *args, **kws)\u001b[0m\n\u001b[0;32m    464\u001b[0m         msg \u001b[39m=\u001b[39m (\u001b[39mf\u001b[39m\u001b[39m\"\u001b[39m\u001b[39m{\u001b[39;00m\u001b[39mstr\u001b[39m(e)\u001b[39m.\u001b[39mrstrip()\u001b[39m}\u001b[39;00m\u001b[39m \u001b[39m\u001b[39m\\n\u001b[39;00m\u001b[39m\\n\u001b[39;00m\u001b[39mThis error may have been caused \u001b[39m\u001b[39m\"\u001b[39m\n\u001b[0;32m    465\u001b[0m                \u001b[39mf\u001b[39m\u001b[39m\"\u001b[39m\u001b[39mby the following argument(s):\u001b[39m\u001b[39m\\n\u001b[39;00m\u001b[39m{\u001b[39;00margs_str\u001b[39m}\u001b[39;00m\u001b[39m\\n\u001b[39;00m\u001b[39m\"\u001b[39m)\n\u001b[0;32m    466\u001b[0m         e\u001b[39m.\u001b[39mpatch_message(msg)\n\u001b[1;32m--> 468\u001b[0m     error_rewrite(e, \u001b[39m'\u001b[39;49m\u001b[39mtyping\u001b[39;49m\u001b[39m'\u001b[39;49m)\n\u001b[0;32m    469\u001b[0m \u001b[39mexcept\u001b[39;00m errors\u001b[39m.\u001b[39mUnsupportedError \u001b[39mas\u001b[39;00m e:\n\u001b[0;32m    470\u001b[0m     \u001b[39m# Something unsupported is present in the user code, add help info\u001b[39;00m\n\u001b[0;32m    471\u001b[0m     error_rewrite(e, \u001b[39m'\u001b[39m\u001b[39munsupported_error\u001b[39m\u001b[39m'\u001b[39m)\n",
      "File \u001b[1;32mc:\\Users\\chira\\Work\\SimulationLab\\Steering\\env\\lib\\site-packages\\numba\\core\\dispatcher.py:409\u001b[0m, in \u001b[0;36m_DispatcherBase._compile_for_args.<locals>.error_rewrite\u001b[1;34m(e, issue_type)\u001b[0m\n\u001b[0;32m    407\u001b[0m     \u001b[39mraise\u001b[39;00m e\n\u001b[0;32m    408\u001b[0m \u001b[39melse\u001b[39;00m:\n\u001b[1;32m--> 409\u001b[0m     \u001b[39mraise\u001b[39;00m e\u001b[39m.\u001b[39mwith_traceback(\u001b[39mNone\u001b[39;00m)\n",
      "\u001b[1;31mTypingError\u001b[0m: Failed in nopython mode pipeline (step: nopython frontend)\n\u001b[1m\u001b[1mnon-precise type array(pyobject, 1d, C)\u001b[0m\n\u001b[0m\u001b[1mDuring: typing of argument at C:\\Users\\chira\\AppData\\Local\\Temp\\ipykernel_23176\\1712252166.py (20)\u001b[0m\n\u001b[1m\nFile \"..\\..\\..\\AppData\\Local\\Temp\\ipykernel_23176\\1712252166.py\", line 20:\u001b[0m\n\u001b[1m<source missing, REPL/exec in use?>\u001b[0m\n"
     ]
    }
   ],
   "source": [
    "# %timeit _ = sum(vec1, vec2)\n",
    "# %timeit _ = sum_njit(vec1, vec2)\n",
    "# %timeit _ = sum_using_pv(pvec1, pvec2)"
   ]
  },
  {
   "cell_type": "code",
   "execution_count": null,
   "metadata": {},
   "outputs": [],
   "source": []
  },
  {
   "cell_type": "code",
   "execution_count": null,
   "metadata": {},
   "outputs": [],
   "source": []
  }
 ],
 "metadata": {
  "kernelspec": {
   "display_name": "env",
   "language": "python",
   "name": "python3"
  },
  "language_info": {
   "codemirror_mode": {
    "name": "ipython",
    "version": 3
   },
   "file_extension": ".py",
   "mimetype": "text/x-python",
   "name": "python",
   "nbconvert_exporter": "python",
   "pygments_lexer": "ipython3",
   "version": "3.10.10"
  },
  "orig_nbformat": 4
 },
 "nbformat": 4,
 "nbformat_minor": 2
}
